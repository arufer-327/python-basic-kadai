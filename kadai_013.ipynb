{
  "nbformat": 4,
  "nbformat_minor": 0,
  "metadata": {
    "colab": {
      "provenance": []
    },
    "kernelspec": {
      "name": "python3",
      "display_name": "Python 3"
    },
    "language_info": {
      "name": "python"
    }
  },
  "cells": [
    {
      "cell_type": "code",
      "execution_count": 3,
      "metadata": {
        "colab": {
          "base_uri": "https://localhost:8080/"
        },
        "id": "GyxzNx_7FEfT",
        "outputId": "cdc32e7e-590f-4534-c4c1-3f3e84e911e1"
      },
      "outputs": [
        {
          "output_type": "stream",
          "name": "stdout",
          "text": [
            "1650.0円\n"
          ]
        }
      ],
      "source": [
        "def add_two_total(price,consumption_tax):\n",
        "\n",
        "    total = price + (price * (consumption_tax/100))\n",
        "\n",
        "    print(f\"{total}円\")\n",
        "\n",
        "add_two_total(1500,10)"
      ]
    }
  ]
}