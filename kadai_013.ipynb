{
  "nbformat": 4,
  "nbformat_minor": 0,
  "metadata": {
    "colab": {
      "provenance": []
    },
    "kernelspec": {
      "name": "python3",
      "display_name": "Python 3"
    },
    "language_info": {
      "name": "python"
    }
  },
  "cells": [
    {
      "cell_type": "code",
      "execution_count": 1,
      "metadata": {
        "colab": {
          "base_uri": "https://localhost:8080/"
        },
        "id": "GyxzNx_7FEfT",
        "outputId": "d46cd5fa-0dcf-49c3-b6d4-b3afb537f183"
      },
      "outputs": [
        {
          "output_type": "stream",
          "name": "stdout",
          "text": [
            "1650.0円\n"
          ]
        }
      ],
      "source": [
        "def add_two_total(price,consumption_tax):\n",
        "\n",
        "    return price + (price * (consumption_tax/100))\n",
        "\n",
        "print(f\"{add_two_total(1500,10)}円\")\n",
        "\n"
      ]
    }
  ]
}