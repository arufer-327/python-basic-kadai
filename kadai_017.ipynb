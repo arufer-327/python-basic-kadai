{
  "nbformat": 4,
  "nbformat_minor": 0,
  "metadata": {
    "colab": {
      "provenance": []
    },
    "kernelspec": {
      "name": "python3",
      "display_name": "Python 3"
    },
    "language_info": {
      "name": "python"
    }
  },
  "cells": [
    {
      "cell_type": "code",
      "execution_count": 12,
      "metadata": {
        "colab": {
          "base_uri": "https://localhost:8080/"
        },
        "id": "OlPMAHQBXJV8",
        "outputId": "9a2dde2f-17f7-4840-be6a-f815bded7bf7"
      },
      "outputs": [
        {
          "output_type": "stream",
          "name": "stdout",
          "text": [
            "花子\n",
            "10歳\n",
            "大人ではない\n",
            "太郎\n",
            "22歳\n",
            "大人です\n",
            "次郎\n",
            "30歳\n",
            "大人です\n"
          ]
        }
      ],
      "source": [
        "\n",
        "class Human:\n",
        "\n",
        "  def __init__(self,name,age):\n",
        "\n",
        "      self.name = name\n",
        "      self.age = age\n",
        "\n",
        "  def check_adult(self):\n",
        "      print(self.name)\n",
        "      print(f\"{self.age}歳\")\n",
        "      if self.age >= 20 :\n",
        "\n",
        "        print(\"大人です\")\n",
        "\n",
        "      else:\n",
        "        print(\"大人ではない\")\n",
        "\n",
        "\n",
        "hanako = Human(\"花子\",10)\n",
        "taro = Human(\"太郎\",22)\n",
        "ziro = Human(\"次郎\",30)\n",
        "\n",
        "list = [hanako,taro,ziro]\n",
        "\n",
        "for menber in list:\n",
        "\n",
        "    menber.check_adult()\n",
        "\n",
        "\n"
      ]
    }
  ]
}