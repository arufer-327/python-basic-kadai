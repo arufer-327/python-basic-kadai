{
  "nbformat": 4,
  "nbformat_minor": 0,
  "metadata": {
    "colab": {
      "provenance": []
    },
    "kernelspec": {
      "name": "python3",
      "display_name": "Python 3"
    },
    "language_info": {
      "name": "python"
    }
  },
  "cells": [
    {
      "cell_type": "code",
      "execution_count": 19,
      "metadata": {
        "colab": {
          "base_uri": "https://localhost:8080/"
        },
        "id": "uHd4rhjIEWss",
        "outputId": "b3479c2e-9fef-4f55-d13d-984db8d9f2a6"
      },
      "outputs": [
        {
          "output_type": "stream",
          "name": "stdout",
          "text": [
            "侍太郎\n",
            "20\n"
          ]
        }
      ],
      "source": [
        "class Human:\n",
        "\n",
        "  def __init__(self):\n",
        "\n",
        "    self.name = \"\"\n",
        "    self.age = 0\n",
        "\n",
        "\n",
        "  def set_printinfo(self,name,age):\n",
        "\n",
        "    self.name = name\n",
        "    self.age = age\n",
        "\n",
        "  def show_printinfo(self) :\n",
        "\n",
        "    print(self.name)\n",
        "    print(self.age)\n",
        "\n",
        "status = Human()\n",
        "\n",
        "status.set_printinfo(\"侍太郎\",20)\n",
        "\n",
        "status.show_printinfo()"
      ]
    }
  ]
}