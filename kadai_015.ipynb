{
  "nbformat": 4,
  "nbformat_minor": 0,
  "metadata": {
    "colab": {
      "provenance": []
    },
    "kernelspec": {
      "name": "python3",
      "display_name": "Python 3"
    },
    "language_info": {
      "name": "python"
    }
  },
  "cells": [
    {
      "cell_type": "code",
      "execution_count": 4,
      "metadata": {
        "colab": {
          "base_uri": "https://localhost:8080/"
        },
        "id": "uHd4rhjIEWss",
        "outputId": "a0fe62bf-0d24-468e-ce3c-6a01cc90217d"
      },
      "outputs": [
        {
          "output_type": "stream",
          "name": "stdout",
          "text": [
            "侍太郎\n",
            "20歳\n"
          ]
        }
      ],
      "source": [
        "class Human:\n",
        "\n",
        "  def __init__(self,name,age):\n",
        "\n",
        "    self.name = name\n",
        "    self.age = age\n",
        "\n",
        "  def printinfo(self) :\n",
        "\n",
        "    print(self.name)\n",
        "    print(f\"{self.age}歳\")\n",
        "\n",
        "status = Human(\"侍太郎\",20)\n",
        "\n",
        "status.printinfo()\n",
        "\n"
      ]
    }
  ]
}