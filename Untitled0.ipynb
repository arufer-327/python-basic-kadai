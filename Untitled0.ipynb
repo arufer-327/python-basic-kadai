{
  "nbformat": 4,
  "nbformat_minor": 0,
  "metadata": {
    "colab": {
      "provenance": []
    },
    "kernelspec": {
      "name": "python3",
      "display_name": "Python 3"
    },
    "language_info": {
      "name": "python"
    }
  },
  "cells": [
    {
      "cell_type": "code",
      "execution_count": null,
      "metadata": {
        "colab": {
          "base_uri": "https://localhost:8080/"
        },
        "id": "FVp1YQJWdqcN",
        "outputId": "fff84194-11b0-4698-c081-3e2b504c7096"
      },
      "outputs": [
        {
          "output_type": "stream",
          "name": "stdout",
          "text": [
            "75.0cm\n"
          ]
        }
      ],
      "source": [
        "jouhen = 10\n",
        "kahen = 20\n",
        "hight = 5\n",
        "\n",
        "\n",
        "print(f\"{(jouhen+kahen)*hight/2}cm\")"
      ]
    }
  ]
}